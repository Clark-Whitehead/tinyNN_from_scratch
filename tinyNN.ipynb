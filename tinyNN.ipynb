{
  "nbformat": 4,
  "nbformat_minor": 0,
  "metadata": {
    "colab": {
      "name": "tinyNN.ipynb",
      "provenance": [],
      "collapsed_sections": [],
      "authorship_tag": "ABX9TyMCL8ByExOMK5WFsppTYAAf"
    },
    "kernelspec": {
      "name": "python3",
      "display_name": "Python 3"
    },
    "language_info": {
      "name": "python"
    }
  },
  "cells": [
    {
      "cell_type": "markdown",
      "metadata": {
        "id": "p4rjXbp_Dw1m"
      },
      "source": [
        "![image.png](data:image/png;base64,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)"
      ]
    },
    {
      "cell_type": "code",
      "metadata": {
        "id": "BfKUWCwpC68v"
      },
      "source": [
        "import numpy as np\n",
        "import keras\n",
        "from keras.models import Sequential\n",
        "from keras.layers import Dense"
      ],
      "execution_count": 1,
      "outputs": []
    },
    {
      "cell_type": "code",
      "metadata": {
        "id": "55Ghr0MCC4CQ"
      },
      "source": [
        "x_train = np.array([[150, 72],\n",
        "                    [125, 55],\n",
        "                    [115, 50],\n",
        "                    [165, 75],\n",
        "                    [180, 60],\n",
        "                    [135, 56]])\n",
        "                   \n",
        "y_train = np.array([1,0,0,1,1,0])\n"
      ],
      "execution_count": 2,
      "outputs": []
    },
    {
      "cell_type": "markdown",
      "metadata": {
        "id": "9MqV8DdXIu0q"
      },
      "source": [
        "## Scale Data using z = (x - m) / s  where m = mean, s = standard deviation"
      ]
    },
    {
      "cell_type": "code",
      "metadata": {
        "id": "YpwD-VV1JAw2"
      },
      "source": [
        "class scale:\n",
        "\n",
        "  def mean(self, x):\n",
        "    return x.sum(axis=0) / x_train.shape[0]\n",
        "\n",
        "  def std(self, x):\n",
        "\n",
        "    m = self.mean(x)\n",
        "\n",
        "    x_minus_mean = x - m\n",
        "\n",
        "    x_minus_mean2 = x_minus_mean ** 2\n",
        "\n",
        "    summation = x_minus_mean2.sum(axis=0)\n",
        "\n",
        "    divide_by_N = summation / (x_train.shape[0])\n",
        "\n",
        "    standard_deviation = np.sqrt(divide_by_N)\n",
        "\n",
        "    return standard_deviation\n",
        "\n",
        "  def scale_data(self, x):\n",
        "    return (x - self.mean(x)) / self.std(x)\n",
        "\n",
        "scaler = scale()"
      ],
      "execution_count": 3,
      "outputs": []
    },
    {
      "cell_type": "code",
      "metadata": {
        "colab": {
          "base_uri": "https://localhost:8080/"
        },
        "id": "-IMkh4mhPluf",
        "outputId": "a291b596-3dc4-4797-b09c-3522568734b2"
      },
      "source": [
        "print(\"MEAN = {}\".format(scaler.mean(x_train)))\n",
        "print(\"STD = {}\".format(scaler.std(x_train)))"
      ],
      "execution_count": 4,
      "outputs": [
        {
          "output_type": "stream",
          "text": [
            "MEAN = [145.          61.33333333]\n",
            "STD = [22.54624876  9.12262146]\n"
          ],
          "name": "stdout"
        }
      ]
    },
    {
      "cell_type": "code",
      "metadata": {
        "colab": {
          "base_uri": "https://localhost:8080/"
        },
        "id": "3dqGeWgaPm7C",
        "outputId": "c371d32a-e3d2-4388-e8fe-94961e40738b"
      },
      "source": [
        "x_train = scaler.scale_data(x_train)\n",
        "\n",
        "print(x_train)"
      ],
      "execution_count": 5,
      "outputs": [
        {
          "output_type": "stream",
          "text": [
            "[[ 0.22176638  1.16925455]\n",
            " [-0.88706553 -0.69424489]\n",
            " [-1.33059829 -1.24233296]\n",
            " [ 0.88706553  1.4981074 ]\n",
            " [ 1.55236467 -0.14615682]\n",
            " [-0.44353276 -0.58462728]]\n"
          ],
          "name": "stdout"
        }
      ]
    },
    {
      "cell_type": "code",
      "metadata": {
        "id": "vjwS8zVxE3VX"
      },
      "source": [
        "#x_train shape = 11x4\n",
        "# x_train = np.array([[1.2, 4.3, 2.1, 1.9],\n",
        "#                     [6.2, 8.3, 5.1, 9.9],\n",
        "#                     [2.3, 4.3, 3.1, 0.9],\n",
        "#                     [4.1, 4.4, 1.1, 0.3],\n",
        "#                     [6.1, 7.1, 8.1, 9.1],\n",
        "#                     [1.0, 2.0, 1.0, 1.0],\n",
        "#                     [5.1, 5.1, 5.1, 5.1],\n",
        "#                     [1.8, 4.0, 3.9, 2.7],\n",
        "#                     [4.4, 0.8, 1.9, 2.7],\n",
        "#                     [6.9, 8.8, 5.7, 7.1]])\n",
        "\n",
        "# #y_train shape = 1x11\n",
        "# y_train = np.array([[1,0],\n",
        "#                     [0,1],\n",
        "#                     [1,0],\n",
        "#                     [1,0],\n",
        "#                     [0,1],\n",
        "#                     [1,0],\n",
        "#                     [0,1],\n",
        "#                     [1,0],\n",
        "#                     [1,0],\n",
        "#                     [0,1]])\n",
        "     "
      ],
      "execution_count": 6,
      "outputs": []
    },
    {
      "cell_type": "code",
      "metadata": {
        "id": "U2JCoN8k9oPx"
      },
      "source": [
        "class tinyNN:\n",
        "  def __init__(self):\n",
        "    \n",
        "    np.random.seed(1)\n",
        "\n",
        "    self.w1 = (2 * np.random.rand(2,50)) - 1\n",
        "    self.w2 = (2 * np.random.rand(50,1)) - 1\n",
        "\n",
        "    self.lr = .001\n",
        "\n",
        "  def tanh(self, x):\n",
        "    return (np.exp(x)-np.exp(-x)) / (np.exp(x)+np.exp(-x))\n",
        "\n",
        "  def derivTanh(self, x):\n",
        "    return (4*np.exp(2*x)) / ((np.exp(2*x) + 1)**2)\n",
        "\n",
        "  def sigmoid(self, x):\n",
        "    return 1 / (1+np.exp(-x))\n",
        "\n",
        "  def derivSigmoid(self, x):\n",
        "    return np.exp(x) / (np.exp(x) + 1)**2\n",
        "\n",
        "  def loss(self, y_pred, y_true):\n",
        "    return (y_pred - y_true)**2\n",
        "\n",
        "  def derivLoss(self, error):\n",
        "    return error\n",
        "\n",
        "  def forward(self, inputs):\n",
        "    \n",
        "    self.hidden = np.dot(inputs, self.w1)\n",
        "    self.h1 = self.tanh(self.hidden)\n",
        "\n",
        "    outputs = np.dot(self.h1, self.w2)\n",
        "    \n",
        "    return outputs\n",
        "\n",
        "  def calcError(self, y_pred, y):\n",
        "\n",
        "    return y_pred.T - y\n",
        "\n",
        "  def backProp(self, error):\n",
        "\n",
        "    dypred_dw2 = self.h1\n",
        "    dse_dypred = error\n",
        "\n",
        "    delta_w2 = np.dot(dypred_dw2.T, dse_dypred.T)\n",
        "\n",
        "    dse_dh = np.dot(dse_dypred.T, self.w2.T)\n",
        "\n",
        "    dh_dp = self.derivTanh(self.hidden)\n",
        "\n",
        "    dse_dp = dse_dh * dh_dp\n",
        "\n",
        "    delta_w1 = np.dot(x_train.T, dse_dp)\n",
        "\n",
        "    self.w2 -= self.lr * delta_w2\n",
        "    self.w1 -= self.lr * delta_w1\n",
        "\n",
        "\n",
        "    \n",
        "\n",
        "garvis = tinyNN()"
      ],
      "execution_count": 7,
      "outputs": []
    },
    {
      "cell_type": "code",
      "metadata": {
        "colab": {
          "base_uri": "https://localhost:8080/"
        },
        "id": "pSC_-gP27Rg6",
        "outputId": "362173da-fa53-4495-e7b3-39094b8ac791"
      },
      "source": [
        "for i in range(1000):\n",
        "\n",
        "  outputs = garvis.forward(x_train)\n",
        "  error = garvis.calcError(outputs, y_train)\n",
        "  garvis.backProp(error)\n",
        "\n",
        "outputs = garvis.forward(x_train)\n",
        "\n",
        "print(outputs)\n",
        "\n",
        "outputs = np.where(outputs >= .5, 1, 0)\n",
        "\n",
        "outputs = np.where(outputs == 1, \"Male\", \"Female\")\n",
        "\n",
        "print(outputs)"
      ],
      "execution_count": 8,
      "outputs": [
        {
          "output_type": "stream",
          "text": [
            "[[ 0.93975543]\n",
            " [-0.02139624]\n",
            " [-0.12630504]\n",
            " [ 0.84544591]\n",
            " [ 0.9055826 ]\n",
            " [-0.19441367]]\n",
            "[['Male']\n",
            " ['Female']\n",
            " ['Female']\n",
            " ['Male']\n",
            " ['Male']\n",
            " ['Female']]\n"
          ],
          "name": "stdout"
        }
      ]
    }
  ]
}